{
 "cells": [
  {
   "cell_type": "markdown",
   "metadata": {},
   "source": [
    "# How to create the Media Services client and list accounts\n",
    "\n",
    "This notebook shows you how to import packages, authenticate, and create a client for Media Services. \n",
    "It also demonstrates how to list accounts in a resource group under your subscription. \n",
    "\n",
    "\n",
    "The same exact code for this notebook is also available in the \"create_client_and_auth.csx\" file that you can load into any notebook to make it easier to get started quickly. You will notice this throughout other example notebooks. It makes it easier to read and just use the CSharp script load magic word to reference the script.\n",
    "\n",
    "```csx\n",
    "#load \"scripts/create_client_and_auth.csx\"\n",
    "```\n"
   ]
  },
  {
   "cell_type": "markdown",
   "metadata": {},
   "source": [
    "### Install packages from Nuget for using Media Services\n",
    "\n",
    "For more details see [Importing Packages](https://github.com/dotnet/interactive/blob/main/samples/notebooks/csharp/Docs/Importing-packages.ipynb)\n"
   ]
  },
  {
   "cell_type": "code",
   "execution_count": null,
   "metadata": {
    "dotnet_interactive": {
     "language": "csharp"
    },
    "vscode": {
     "languageId": "dotnet-interactive.csharp"
    }
   },
   "outputs": [
    {
     "data": {
      "text/html": [
       "<div><div></div><div></div><div><strong>Installed Packages</strong><ul><li><span>dotenv.net, 3.0.0</span></li><li><span>Microsoft.Azure.Management.Media, 5.0.0</span></li><li><span>Microsoft.Extensions.Configuration, 6.0.1</span></li><li><span>Microsoft.Identity.Client, 4.43.0</span></li><li><span>microsoft.rest.clientruntime, 2.3.20</span></li></ul></div></div>"
      ]
     },
     "metadata": {},
     "output_type": "display_data"
    }
   ],
   "source": [
    "#r \"nuget:Microsoft.Azure.Management.Media, 5.0.0\"\n",
    "#r \"nuget:Microsoft.Extensions.Configuration\"\n",
    "#r \"nuget:Microsoft.Identity.Client\"\n",
    "#r \"nuget:Microsoft.Rest.ClientRuntime\"\n",
    "#r \"nuget: dotenv.net, 3.0.0\"\n",
    "\n",
    "#load \"scripts/create_client_and_auth.csx\""
   ]
  },
  {
   "cell_type": "markdown",
   "metadata": {},
   "source": [
    "## Add Using statements"
   ]
  },
  {
   "cell_type": "code",
   "execution_count": null,
   "metadata": {
    "dotnet_interactive": {
     "language": "csharp"
    },
    "vscode": {
     "languageId": "dotnet-interactive.csharp"
    }
   },
   "outputs": [],
   "source": [
    "using Microsoft.Azure.Management.Media;\n",
    "using Microsoft.Azure.Management.Media.Models;\n",
    "using Microsoft.Extensions.Configuration;\n",
    "using Microsoft.Identity.Client;\n",
    "using Microsoft.Rest;\n",
    "using Common_Utils;\n",
    "using dotenv.net;"
   ]
  },
  {
   "cell_type": "markdown",
   "metadata": {},
   "source": [
    "## Load environment variables from the .env file\n",
    "\n",
    "Create a .env file in the folder for this interactive notebook and fill out the following variables from the values in the Azure Portal for your Media Services account. \n",
    "\n",
    "```env\n",
    "# Copy the content of this file to a file named \".env\". It should be stored at the root of the repo.\n",
    "# Make sure to exclude this file from GitHub checkins using a .gitignore file\n",
    "\n",
    "# The values can be obtained from the API Access page for your Media Services account in the portal.\n",
    "AADCLIENTID=00000000-0000-0000-0000-000000000000\n",
    "AADSECRET=00000000-0000-0000-0000-000000000000\n",
    "AADTENANTDOMAIN=microsoft.onmicrosoft.com\n",
    "AADTENANTID=00000000-0000-0000-0000-000000000000\n",
    "ACCOUNTNAME=\"amsaccount\"\n",
    "RESOURCEGROUP=\"amsResourceGroup\"\n",
    "SUBSCRIPTIONID=00000000-0000-0000-0000-000000000000\n",
    "ARMAADAUDIENCE=https://management.core.windows.net/\n",
    "ARMENDPOINT=https://management.azure.com/\n",
    "```\n"
   ]
  },
  {
   "cell_type": "code",
   "execution_count": null,
   "metadata": {
    "dotnet_interactive": {
     "language": "csharp"
    },
    "vscode": {
     "languageId": "dotnet-interactive.csharp"
    }
   },
   "outputs": [
    {
     "data": {
      "text/html": [
       "<table><thead><tr><th><i>key</i></th><th>value</th></tr></thead><tbody><tr><td>AADCLIENTID</td><td>b933d46e-ad94-44d7-8dcf-b6c81c9b5dcc</td></tr><tr><td>AADSECRET</td><td>k-57Q~2Gh1BG-c1ZiiMFD~dqTMtyF9~SMHfya</td></tr><tr><td>AADTENANTDOMAIN</td><td>microsoft.onmicrosoft.com</td></tr><tr><td>AADTENANTID</td><td>72f988bf-86f1-41af-91ab-2d7cd011db47</td></tr><tr><td>ACCOUNTNAME</td><td>johndeumanagedidentity</td></tr><tr><td>RESOURCEGROUP</td><td>johndeu_managedidentity</td></tr><tr><td>SUBSCRIPTIONID</td><td>2b461b25-f7b4-4a22-90cc-d640a14b5471</td></tr><tr><td>ARMAADAUDIENCE</td><td> https://management.core.windows.net/</td></tr><tr><td>ARMENDPOINT</td><td> https://management.azure.com/</td></tr><tr><td>AADENDPOINT</td><td> https://login.microsoftonline.com</td></tr><tr><td>STORAGECONNECTIONSTRING</td><td> &quot;DefaultEndpointsProtocol=https;AccountName=nimbuspmteam;AccountKey=NOShf9KnhsBgkP1oEyGgUyvzk5s6aaKRpueQEIR2MYRzsCatNG7986P0961Ce791DhQVvEsYSfRxD3BmTY05ag==;EndpointSuffix=core.windows.net&quot;</td></tr><tr><td>EVENTHUBCONNECTIONSTRING</td><td> &quot;Endpoint=sb://mediasampleevents.servicebus.windows.net/;SharedAccessKeyName=sdksamples;SharedAccessKey=Grlsq30I6IAVIT71QLjpc00fqXrBkoEPsNo45ROXBWk=;EntityPath=sdksampleevents&quot;</td></tr><tr><td>EVENTHUBENDPOINT</td><td>sb://mediasampleevents.servicebus.windows.net/;SharedAccessKeyName=sdksamples</td></tr><tr><td>EVENTHUBACCESSKEY</td><td>Grlsq30I6IAVIT71QLjpc00fqXrBkoEPsNo45ROXBWk=</td></tr><tr><td>EVENTHUBNAME</td><td> &quot;sdksampleevents&quot;</td></tr><tr><td>EVENTCONSUMERGROUP</td><td> &quot;$Default&quot;</td></tr><tr><td>STORAGECONTAINERNAME</td><td> &quot;events&quot;</td></tr><tr><td>STORAGEACCOUNTNAME</td><td> &quot;nimbuspmteam&quot;</td></tr><tr><td>STORAGEACCOUNTKEY</td><td> &quot;NOShf9KnhsBgkP1oEyGgUyvzk5s6aaKRpueQEIR2MYRzsCatNG7986P0961Ce791DhQVvEsYSfRxD3BmTY05ag==&quot;</td></tr><tr><td>SYMMETRICKEY</td><td>LPLSvB5RuzFxpVqFxWsUsCL2D83zLOFlGV0R8rTp1f+xrQTWXO/XAQ==</td></tr></tbody></table>"
      ]
     },
     "metadata": {},
     "output_type": "display_data"
    }
   ],
   "source": [
    "dotenv.net.DotEnv.Load();\n",
    "var envVars = dotenv.net.DotEnv.Read();\n",
    "var AADCLIENTID= envVars[\"AADCLIENTID\"];\n",
    "var AADSECRET= envVars[\"AADSECRET\"];\n",
    "var AADTENANTDOMAIN = envVars[\"AADTENANTDOMAIN\"];\n",
    "var AADTENANTID= envVars[\"AADTENANTID\"];\n",
    "var ACCOUNTNAME= envVars[\"ACCOUNTNAME\"];\n",
    "var RESOURCEGROUP= envVars[\"RESOURCEGROUP\"];\n",
    "var SUBSCRIPTIONID= envVars[\"SUBSCRIPTIONID\"];\n",
    "var ARMAADAUDIENCE= envVars[\"ARMAADAUDIENCE\"];\n",
    "var ARMENDPOINT= envVars[\"ARMENDPOINT\"];\n",
    "var AADENDPOINT= envVars[\"AADENDPOINT\"];\n",
    "var STORAGECONNECTIONSTRING= envVars[\"STORAGECONNECTIONSTRING\"];\n",
    "\n",
    "display(envVars);"
   ]
  },
  {
   "cell_type": "markdown",
   "metadata": {},
   "source": [
    "## Authenticate using the client id and client secret"
   ]
  },
  {
   "cell_type": "code",
   "execution_count": null,
   "metadata": {
    "dotnet_interactive": {
     "language": "csharp"
    },
    "vscode": {
     "languageId": "dotnet-interactive.csharp"
    }
   },
   "outputs": [],
   "source": [
    "string TokenType = \"Bearer\";\n",
    "var scopes = new[] { ARMAADAUDIENCE + \".default\" };\n",
    "\n",
    "var app = ConfidentialClientApplicationBuilder.Create(AADCLIENTID)\n",
    "    .WithClientSecret(AADSECRET)\n",
    "    .WithAuthority(AzureCloudInstance.AzurePublic, AADTENANTID)\n",
    "    .Build();\n",
    "\n",
    "var authResult = await app.AcquireTokenForClient(scopes)\n",
    "                                        .ExecuteAsync()\n",
    "                                        .ConfigureAwait(false);\n",
    "\n",
    "var credentials = new TokenCredentials(authResult.AccessToken, TokenType);\n"
   ]
  },
  {
   "cell_type": "markdown",
   "metadata": {},
   "source": [
    "## Create the Azure Media Services Client"
   ]
  },
  {
   "cell_type": "code",
   "execution_count": null,
   "metadata": {
    "dotnet_interactive": {
     "language": "csharp"
    },
    "vscode": {
     "languageId": "dotnet-interactive.csharp"
    }
   },
   "outputs": [
    {
     "data": {
      "text/plain": [
       "Client created for Media Services"
      ]
     },
     "metadata": {},
     "output_type": "display_data"
    },
    {
     "data": {
      "text/plain": [
       "Using AMS REST API version: 2021-06-01"
      ]
     },
     "metadata": {},
     "output_type": "display_data"
    }
   ],
   "source": [
    "\n",
    "IAzureMediaServicesClient client;\n",
    "\n",
    "try\n",
    "{\n",
    "    client =new AzureMediaServicesClient(new Uri(ARMENDPOINT), credentials)\n",
    "    {\n",
    "        SubscriptionId = SUBSCRIPTIONID\n",
    "    };\n",
    "}\n",
    "catch (Exception e)\n",
    "{\n",
    "    display(\"TIP: Make sure that you have filled out an .env file before running this sample.\");\n",
    "    display($\"{e.Message}\");\n",
    "}\n",
    "\n",
    " // Set the polling interval for long running operations to 2 seconds.\n",
    "// The default value is 30 seconds for the .NET client SDK\n",
    "client.LongRunningOperationRetryTimeout = 2;\n",
    "\n",
    "display(\"Client created for Media Services\");\n",
    "display($\"Using AMS REST API version: {client.ApiVersion}\");\n"
   ]
  },
  {
   "cell_type": "markdown",
   "metadata": {},
   "source": [
    "## List all of the media accounts in this Resource Group"
   ]
  },
  {
   "cell_type": "code",
   "execution_count": null,
   "metadata": {
    "dotnet_interactive": {
     "language": "csharp"
    },
    "vscode": {
     "languageId": "dotnet-interactive.csharp"
    }
   },
   "outputs": [
    {
     "data": {
      "text/plain": [
       "Listing all Media accounts in this Resource Group"
      ]
     },
     "metadata": {},
     "output_type": "display_data"
    },
    {
     "data": {
      "text/html": [
       "<table><thead><tr><th><i>index</i></th><th>MediaServiceId</th><th>StorageAccounts</th><th>StorageAuthentication</th><th>Encryption</th><th>KeyDelivery</th><th>PublicNetworkAccess</th><th>Identity</th><th>SystemData</th><th>Tags</th><th>Location</th><th>Id</th><th>Name</th><th>Type</th></tr></thead><tbody><tr><td>0</td><td><div class=\"dni-plaintext\">e29b9629-34b8-47d8-982e-9ceb5f00f67a</div></td><td><div class=\"dni-plaintext\">[ { Microsoft.Azure.Management.Media.Models.StorageAccount: Id: /subscriptions/2b461b25-f7b4-4a22-90cc-d640a14b5471/resourceGroups/johndeu_managedidentity/providers/microsoft.storage/storageaccounts/johndeumanagedstorage, Type: Primary, Identity: { Microsoft.Azure.Management.Media.Models.ResourceIdentity: UserAssignedIdentity: /subscriptions/2b461b25-f7b4-4a22-90cc-d640a14b5471/resourceGroups/johndeu_managedidentity/providers/Microsoft.ManagedIdentity/userAssignedIdentities/johndeumangedidentity, UseSystemAssignedIdentity: False }, Status: &lt;null&gt; } ]</div></td><td><div class=\"dni-plaintext\">ManagedIdentity</div></td><td><table><thead><tr><th>Type</th><th>KeyVaultProperties</th><th>Identity</th><th>Status</th></tr></thead><tbody><tr><td><div class=\"dni-plaintext\">SystemKey</div></td><td><div class=\"dni-plaintext\">&lt;null&gt;</div></td><td><div class=\"dni-plaintext\">&lt;null&gt;</div></td><td><div class=\"dni-plaintext\">&lt;null&gt;</div></td></tr></tbody></table></td><td><table><thead><tr><th>AccessControl</th></tr></thead><tbody><tr><td><div class=\"dni-plaintext\">{ Microsoft.Azure.Management.Media.Models.AccessControl: DefaultAction: Allow, IpAllowList: [  ] }</div></td></tr></tbody></table></td><td><div class=\"dni-plaintext\">Enabled</div></td><td><table><thead><tr><th>Type</th><th>PrincipalId</th><th>TenantId</th><th>UserAssignedIdentities</th></tr></thead><tbody><tr><td><div class=\"dni-plaintext\">UserAssigned</div></td><td><div class=\"dni-plaintext\">&lt;null&gt;</div></td><td><div class=\"dni-plaintext\">&lt;null&gt;</div></td><td><div class=\"dni-plaintext\">[ { [/subscriptions/2b461b25-f7b4-4a22-90cc-d640a14b5471/resourceGroups/johndeu_managedidentity/providers/Microsoft.ManagedIdentity/userAssignedIdentities/johndeumangedidentity, Microsoft.Azure.Management.Media.Models.UserAssignedManagedIdentity]: Key: /subscriptions/2b461b25-f7b4-4a22-90cc-d640a14b5471/resourceGroups/johndeu_managedidentity/providers/Microsoft.ManagedIdentity/userAssignedIdentities/johndeumangedidentity, Value: { Microsoft.Azure.Management.Media.Models.UserAssignedManagedIdentity: ClientId: af5c0ff1-58fa-4c5c-be82-0c55eedab825, PrincipalId: b92b7e0a-7ce5-462a-bc79-19b9a2cea0db } } ]</div></td></tr></tbody></table></td><td><table><thead><tr><th>CreatedBy</th><th>CreatedByType</th><th>CreatedAt</th><th>LastModifiedBy</th><th>LastModifiedByType</th><th>LastModifiedAt</th></tr></thead><tbody><tr><td><div class=\"dni-plaintext\">johndeu@microsoft.com</div></td><td><div class=\"dni-plaintext\">User</div></td><td><div class=\"dni-plaintext\">2022-01-05 19:34:53Z</div></td><td><div class=\"dni-plaintext\">johndeu@microsoft.com</div></td><td><div class=\"dni-plaintext\">User</div></td><td><div class=\"dni-plaintext\">2022-01-05 19:34:53Z</div></td></tr></tbody></table></td><td><div class=\"dni-plaintext\">[ { [createdBy, johndeu]: Key: createdBy, Value: johndeu }, { [Owner, johndeu]: Key: Owner, Value: johndeu } ]</div></td><td>West US 2</td><td>/subscriptions/2b461b25-f7b4-4a22-90cc-d640a14b5471/resourceGroups/johndeu_managedidentity/providers/Microsoft.Media/mediaservices/johndeumanagedidentity</td><td>johndeumanagedidentity</td><td>Microsoft.Media/mediaservices</td></tr></tbody></table>"
      ]
     },
     "metadata": {},
     "output_type": "display_data"
    }
   ],
   "source": [
    "display(\"Listing all Media accounts in this Resource Group\");\n",
    "\n",
    "IPage<MediaService> accounts;\n",
    "try{\n",
    "    accounts = await client.Mediaservices.ListAsync(RESOURCEGROUP);\n",
    "}catch(ErrorResponseException  e)\n",
    "{\n",
    "    display(e.Body);\n",
    "}\n",
    "\n",
    "display(accounts);\n"
   ]
  }
 ],
 "metadata": {
  "kernelspec": {
   "display_name": ".NET (C#)",
   "language": "C#",
   "name": ".net-csharp"
  },
  "language_info": {
   "file_extension": ".cs",
   "mimetype": "text/x-csharp",
   "name": "C#",
   "pygments_lexer": "csharp",
   "version": "9.0"
  },
  "orig_nbformat": 4
 },
 "nbformat": 4,
 "nbformat_minor": 2
}
