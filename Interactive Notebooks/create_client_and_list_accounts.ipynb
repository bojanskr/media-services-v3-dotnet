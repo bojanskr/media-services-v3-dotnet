{
 "cells": [
  {
   "cell_type": "markdown",
   "metadata": {},
   "source": [
    "# How to create the Media Services client and list accounts\n",
    "\n",
    "This notebook shows you how to import packages, authenticate, and create a client for Media Services. \n",
    "It also demonstrates how to list accounts in a resource group under your subscription. \n",
    "\n",
    "\n",
    "The same exact code for this notebook is also available in the \"create_client_and_auth.csx\" file that you can load into any notebook to make it easier to get started quickly. You will notice this throughout other example notebooks. It makes it easier to read and just use the CSharp script load magic word to reference the script.\n",
    "\n",
    "```csx\n",
    "#load \"scripts/create_client_and_auth.csx\"\n",
    "```\n"
   ]
  },
  {
   "cell_type": "markdown",
   "metadata": {},
   "source": [
    "### Install packages from Nuget for using Media Services\n",
    "\n",
    "For more details see [Importing Packages](https://github.com/dotnet/interactive/blob/main/samples/notebooks/csharp/Docs/Importing-packages.ipynb)\n"
   ]
  },
  {
   "cell_type": "code",
   "execution_count": null,
   "metadata": {
    "dotnet_interactive": {
     "language": "csharp"
    },
    "vscode": {
     "languageId": "dotnet-interactive.csharp"
    }
   },
   "outputs": [],
   "source": [
    "#r \"nuget:Microsoft.Azure.Management.Media, 5.0.0\"\n",
    "#r \"nuget:Microsoft.Extensions.Configuration\"\n",
    "#r \"nuget:Microsoft.Identity.Client\"\n",
    "#r \"nuget:Microsoft.Rest.ClientRuntime\"\n",
    "#r \"nuget: dotenv.net, 3.0.0\"\n",
    "\n",
    "#load \"scripts/create_client_and_auth.csx\""
   ]
  },
  {
   "cell_type": "markdown",
   "metadata": {},
   "source": [
    "## Add Using statements"
   ]
  },
  {
   "cell_type": "code",
   "execution_count": null,
   "metadata": {
    "dotnet_interactive": {
     "language": "csharp"
    },
    "vscode": {
     "languageId": "dotnet-interactive.csharp"
    }
   },
   "outputs": [],
   "source": [
    "using Microsoft.Azure.Management.Media;\n",
    "using Microsoft.Azure.Management.Media.Models;\n",
    "using Microsoft.Extensions.Configuration;\n",
    "using Microsoft.Identity.Client;\n",
    "using Microsoft.Rest;\n",
    "using Common_Utils;\n",
    "using dotenv.net;"
   ]
  },
  {
   "cell_type": "markdown",
   "metadata": {},
   "source": [
    "## Load environment variables from the .env file\n",
    "\n",
    "Create a .env file in the folder for this interactive notebook and fill out the following variables from the values in the Azure Portal for your Media Services account. \n",
    "\n",
    "```env\n",
    "# Copy the content of this file to a file named \".env\". It should be stored at the root of the repo.\n",
    "# Make sure to exclude this file from GitHub checkins using a .gitignore file\n",
    "\n",
    "# The values can be obtained from the API Access page for your Media Services account in the portal.\n",
    "AADCLIENTID=00000000-0000-0000-0000-000000000000\n",
    "AADSECRET=00000000-0000-0000-0000-000000000000\n",
    "AADTENANTDOMAIN=microsoft.onmicrosoft.com\n",
    "AADTENANTID=00000000-0000-0000-0000-000000000000\n",
    "ACCOUNTNAME=\"amsaccount\"\n",
    "RESOURCEGROUP=\"amsResourceGroup\"\n",
    "SUBSCRIPTIONID=00000000-0000-0000-0000-000000000000\n",
    "ARMAADAUDIENCE=https://management.core.windows.net/\n",
    "ARMENDPOINT=https://management.azure.com/\n",
    "```\n"
   ]
  },
  {
   "cell_type": "code",
   "execution_count": null,
   "metadata": {
    "dotnet_interactive": {
     "language": "csharp"
    },
    "vscode": {
     "languageId": "dotnet-interactive.csharp"
    }
   },
   "outputs": [],
   "source": [
    "dotenv.net.DotEnv.Load();\n",
    "var envVars = dotenv.net.DotEnv.Read();\n",
    "var AADCLIENTID= envVars[\"AADCLIENTID\"];\n",
    "var AADSECRET= envVars[\"AADSECRET\"];\n",
    "var AADTENANTDOMAIN = envVars[\"AADTENANTDOMAIN\"];\n",
    "var AADTENANTID= envVars[\"AADTENANTID\"];\n",
    "var ACCOUNTNAME= envVars[\"ACCOUNTNAME\"];\n",
    "var RESOURCEGROUP= envVars[\"RESOURCEGROUP\"];\n",
    "var SUBSCRIPTIONID= envVars[\"SUBSCRIPTIONID\"];\n",
    "var ARMAADAUDIENCE= envVars[\"ARMAADAUDIENCE\"];\n",
    "var ARMENDPOINT= envVars[\"ARMENDPOINT\"];\n",
    "var AADENDPOINT= envVars[\"AADENDPOINT\"];\n",
    "var STORAGECONNECTIONSTRING= envVars[\"STORAGECONNECTIONSTRING\"];\n"
   ]
  },
  {
   "cell_type": "markdown",
   "metadata": {},
   "source": [
    "## Authenticate using the client id and client secret"
   ]
  },
  {
   "cell_type": "code",
   "execution_count": null,
   "metadata": {
    "dotnet_interactive": {
     "language": "csharp"
    },
    "vscode": {
     "languageId": "dotnet-interactive.csharp"
    }
   },
   "outputs": [],
   "source": [
    "string TokenType = \"Bearer\";\n",
    "var scopes = new[] { ARMAADAUDIENCE + \".default\" };\n",
    "\n",
    "var app = ConfidentialClientApplicationBuilder.Create(AADCLIENTID)\n",
    "    .WithClientSecret(AADSECRET)\n",
    "    .WithAuthority(AzureCloudInstance.AzurePublic, AADTENANTID)\n",
    "    .Build();\n",
    "\n",
    "var authResult = await app.AcquireTokenForClient(scopes)\n",
    "                                        .ExecuteAsync()\n",
    "                                        .ConfigureAwait(false);\n",
    "\n",
    "var credentials = new TokenCredentials(authResult.AccessToken, TokenType);\n"
   ]
  },
  {
   "cell_type": "markdown",
   "metadata": {},
   "source": [
    "## Create the Azure Media Services Client"
   ]
  },
  {
   "cell_type": "code",
   "execution_count": null,
   "metadata": {
    "dotnet_interactive": {
     "language": "csharp"
    },
    "vscode": {
     "languageId": "dotnet-interactive.csharp"
    }
   },
   "outputs": [],
   "source": [
    "\n",
    "IAzureMediaServicesClient client;\n",
    "\n",
    "try\n",
    "{\n",
    "    client =new AzureMediaServicesClient(new Uri(ARMENDPOINT), credentials)\n",
    "    {\n",
    "        SubscriptionId = SUBSCRIPTIONID\n",
    "    };\n",
    "}\n",
    "catch (Exception e)\n",
    "{\n",
    "    display(\"TIP: Make sure that you have filled out an .env file before running this sample.\");\n",
    "    display($\"{e.Message}\");\n",
    "}\n",
    "\n",
    " // Set the polling interval for long running operations to 2 seconds.\n",
    "// The default value is 30 seconds for the .NET client SDK\n",
    "client.LongRunningOperationRetryTimeout = 2;\n",
    "\n",
    "display(\"Client created for Media Services\");\n",
    "display($\"Using AMS REST API version: {client.ApiVersion}\");\n"
   ]
  },
  {
   "cell_type": "markdown",
   "metadata": {},
   "source": [
    "## List all of the media accounts in this Resource Group"
   ]
  },
  {
   "cell_type": "code",
   "execution_count": null,
   "metadata": {
    "dotnet_interactive": {
     "language": "csharp"
    },
    "vscode": {
     "languageId": "dotnet-interactive.csharp"
    }
   },
   "outputs": [],
   "source": [
    "display(\"Listing all Media accounts in this Resource Group\");\n",
    "\n",
    "IPage<MediaService> accounts;\n",
    "try{\n",
    "    accounts = await client.Mediaservices.ListAsync(RESOURCEGROUP);\n",
    "}catch(ErrorResponseException  e)\n",
    "{\n",
    "    display(e.Body);\n",
    "}\n",
    "\n",
    "display(accounts);\n"
   ]
  }
 ],
 "metadata": {
  "kernelspec": {
   "display_name": ".NET (C#)",
   "language": "C#",
   "name": ".net-csharp"
  },
  "language_info": {
   "file_extension": ".cs",
   "mimetype": "text/x-csharp",
   "name": "C#",
   "pygments_lexer": "csharp",
   "version": "9.0"
  },
  "orig_nbformat": 4
 },
 "nbformat": 4,
 "nbformat_minor": 2
}
